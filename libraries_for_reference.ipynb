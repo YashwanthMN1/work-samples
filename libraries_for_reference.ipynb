{
  "nbformat": 4,
  "nbformat_minor": 0,
  "metadata": {
    "colab": {
      "name": "libraries for reference.ipynb",
      "provenance": [],
      "collapsed_sections": [],
      "include_colab_link": true
    },
    "kernelspec": {
      "name": "python3",
      "display_name": "Python 3"
    }
  },
  "cells": [
    {
      "cell_type": "markdown",
      "metadata": {
        "id": "view-in-github",
        "colab_type": "text"
      },
      "source": [
        "<a href=\"https://colab.research.google.com/github/YashwanthMN1/work-samples/blob/main/libraries_for_reference.ipynb\" target=\"_parent\"><img src=\"https://colab.research.google.com/assets/colab-badge.svg\" alt=\"Open In Colab\"/></a>"
      ]
    },
    {
      "cell_type": "code",
      "metadata": {
        "id": "YBroL9OLD54M"
      },
      "source": [
        "#basic utils\n",
        "import pandas as pd\n",
        "import numpy as np\n",
        "import matplotlib.pyplot as plt \n",
        "import seaborn as sns"
      ],
      "execution_count": 1,
      "outputs": []
    },
    {
      "cell_type": "code",
      "metadata": {
        "id": "_OP2NH4d3Eg4"
      },
      "source": [
        "#tools\n",
        "from sklearn.model_selection import train_test_split  ,  cross_val_score  ,  KFold  ,  GridSearchCV\n",
        "from sklearn.preprocessing import Binarizer  ,  LabelEncoder  ,  OneHotEncoder  ,  OrdinalEncoder  ,  StandardScaler  ,  MinMaxScaler\n",
        "from sklearn.pipeline import  make_pipeline\n",
        "from sklearn.impute import SimpleImputer  ,  KNNImputer"
      ],
      "execution_count": null,
      "outputs": []
    },
    {
      "cell_type": "code",
      "metadata": {
        "id": "PrnapcZU2tl_"
      },
      "source": [
        "#ensemble algos\n",
        "from sklearn.ensemble import RandomForestClassifier  ,  RandomForestRegressor   "
      ],
      "execution_count": null,
      "outputs": []
    },
    {
      "cell_type": "code",
      "metadata": {
        "id": "02-GOsFS2tLO"
      },
      "source": [
        "#ml algos and dl algos\n",
        "from keras.models import Sequential\n",
        "from keras.layers import RNN  ,  Convolution3D  ,  LSTM\n",
        "from sklearn.neighbors import KNeighborsClassifier  ,  KNeighborsRegressor\n",
        "from sklearn.linear_model import LinearRegression  ,  LogisticRegression  ,  Lasso  ,  Ridge\n",
        "from sklearn.tree import DecisionTreeClassifier  ,  DecisionTreeRegressor\n",
        "from sklearn.svm import SVC  ,  SVR"
      ],
      "execution_count": null,
      "outputs": []
    },
    {
      "cell_type": "code",
      "metadata": {
        "id": "rsH8S5XA5ppb"
      },
      "source": [
        "#result calculators\n",
        "from sklearn.metrics import accuracy_score  ,  confusion_matrix  ,  mean_squared_error  ,  plot_roc_curve  ,  precision_score  ,  r2_score  ,  roc_auc_score"
      ],
      "execution_count": null,
      "outputs": []
    }
  ]
}